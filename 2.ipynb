{
 "cells": [
  {
   "cell_type": "raw",
   "id": "9acca15a-845f-48bd-a7ec-0f5602c84afe",
   "metadata": {},
   "source": [
    "Output of the following code is--\n",
    "5\n",
    "5\n",
    "5\n",
    "5\n",
    "5\n",
    "\n",
    "Explanation--\n",
    "In this code, a for loop is used to iterate from i = 0 to i = 4 with i being incremented by 1 in each iteration.\n",
    "Inside the loop, a 'setTimeout' function is called with a delay of 100 milliseconds. The setTimeout function takes two arguments: a callback function and a time delay in milliseconds. The callback function here is an arrow function () => console.log(i).Now, when the setTimeout function is called, it doesn't immediately execute the callback function. Instead, it schedules the execution of the callback function after the specified delay (100 milliseconds in this example)."
   ]
  }
 ],
 "metadata": {
  "kernelspec": {
   "display_name": "Python 3 (ipykernel)",
   "language": "python",
   "name": "python3"
  },
  "language_info": {
   "codemirror_mode": {
    "name": "ipython",
    "version": 3
   },
   "file_extension": ".py",
   "mimetype": "text/x-python",
   "name": "python",
   "nbconvert_exporter": "python",
   "pygments_lexer": "ipython3",
   "version": "3.10.8"
  }
 },
 "nbformat": 4,
 "nbformat_minor": 5
}
